{
 "cells": [
  {
   "cell_type": "code",
   "execution_count": 499,
   "metadata": {},
   "outputs": [
    {
     "name": "stderr",
     "output_type": "stream",
     "text": [
      "[nltk_data] Downloading package punkt to\n",
      "[nltk_data]     C:\\Users\\zaplu\\AppData\\Roaming\\nltk_data...\n",
      "[nltk_data]   Package punkt is already up-to-date!\n",
      "[nltk_data] Downloading package wordnet to\n",
      "[nltk_data]     C:\\Users\\zaplu\\AppData\\Roaming\\nltk_data...\n",
      "[nltk_data]   Package wordnet is already up-to-date!\n",
      "[nltk_data] Downloading package stopwords to\n",
      "[nltk_data]     C:\\Users\\zaplu\\AppData\\Roaming\\nltk_data...\n",
      "[nltk_data]   Package stopwords is already up-to-date!\n"
     ]
    }
   ],
   "source": [
    "import pandas as pd\n",
    "import seaborn as sns\n",
    "import re\n",
    "import matplotlib.pyplot as plt\n",
    "import numpy as np\n",
    "\n",
    "import nltk\n",
    "nltk.download(['punkt', 'wordnet','stopwords'])\n",
    "from nltk.tokenize import word_tokenize, sent_tokenize\n",
    "from nltk.corpus import stopwords\n",
    "from nltk.stem.wordnet import WordNetLemmatizer\n",
    "from scipy.stats import norm\n",
    "\n",
    "from sklearn.metrics import confusion_matrix, accuracy_score, recall_score, classification_report, make_scorer,r2_score\n",
    "from sklearn.model_selection import GridSearchCV\n",
    "from sklearn.ensemble import RandomForestClassifier, GradientBoostingClassifier,GradientBoostingRegressor\n",
    "from sklearn.model_selection import train_test_split\n",
    "from sklearn.pipeline import Pipeline, FeatureUnion\n",
    "from sklearn.base import BaseEstimator, TransformerMixin\n",
    "from sklearn.feature_extraction.text import CountVectorizer, TfidfTransformer\n",
    "from sklearn.multioutput import MultiOutputClassifier"
   ]
  },
  {
   "cell_type": "markdown",
   "metadata": {},
   "source": [
    "## Project motivation"
   ]
  },
  {
   "cell_type": "markdown",
   "metadata": {},
   "source": [
    "My aim in this project is to analyze prices of Airbnb listings in Amsterdam, focusing primarily on comparing average prices (per person per night) in different city districts, and trying to identify other price drivers that might be interesting to the visitors of Amsterdam.\n",
    "\n",
    "The analysis provides a general overview of the Airbnb market in Amsterdam, but can also serve as a guide to all visitors who are interested in where to stay if travelling on budget, or how large is the premium for more central apartments. By using text processing techniques I also analyze user reviews to find out which parts of the city the users think are well-located. I find out that the share of reviews that specifically praise the location is in fact a solid price predictor, as linear relationship is observed between the two variables. Through this analysis I also identify districts that are under or over priced given their location.\n",
    "\n",
    "Location is obviously one of the main drivers when it comes to renting out an Airbnb apartment, but there are of course many other aspects that impact the prices. My analysis goes beyond just comparing the average prices of different districts. I analyze the listings' names and descriptions in specific districts to answer questions such as how much extra on average one needs to pay if the flat is advertised as luxurious, spacious, cosy, modern,etc., or how large is the premium for having a garden, or very specific to Amsterdam, how much more expensive it is to stay just next to a canal, or on it, in a houseboat.\n",
    "\n",
    "In summary, I want to answer 3 specific questions:\n",
    "- compare average price per person per night between different neighborhoods in Amsterdam\n",
    "- analyze whether the average prices in Amsterdam districts are correlated with the ratio of reviews that specifically praise the flat location\n",
    "- find out how much extra one needs to pay on average for a flat advertised (in the name or description) as luxurious, spacious, modern, having a garden, being close to a canal, etc."
   ]
  },
  {
   "cell_type": "markdown",
   "metadata": {},
   "source": [
    "### 1. Import and explore data\n",
    "To perform the analysis I import two Airbnb datasets that are publically available on the following website http://insideairbnb.com/get-the-data.html. The `listings` dataframe includes detailed data of all listings in Amsterdam, and the `review` dataframe collects the user reviews. According to the website, both datasets have been compiled as of July 8, 2019."
   ]
  },
  {
   "cell_type": "code",
   "execution_count": 382,
   "metadata": {},
   "outputs": [],
   "source": [
    "listings = pd.read_csv('listings.csv')\n",
    "reviews = pd.read_csv('reviews.csv')"
   ]
  },
  {
   "cell_type": "code",
   "execution_count": 383,
   "metadata": {},
   "outputs": [
    {
     "data": {
      "text/plain": [
       "(20337, 106)"
      ]
     },
     "execution_count": 383,
     "metadata": {},
     "output_type": "execute_result"
    }
   ],
   "source": [
    "listings.shape"
   ]
  },
  {
   "cell_type": "code",
   "execution_count": 384,
   "metadata": {},
   "outputs": [
    {
     "data": {
      "text/html": [
       "<div>\n",
       "<style scoped>\n",
       "    .dataframe tbody tr th:only-of-type {\n",
       "        vertical-align: middle;\n",
       "    }\n",
       "\n",
       "    .dataframe tbody tr th {\n",
       "        vertical-align: top;\n",
       "    }\n",
       "\n",
       "    .dataframe thead th {\n",
       "        text-align: right;\n",
       "    }\n",
       "</style>\n",
       "<table border=\"1\" class=\"dataframe\">\n",
       "  <thead>\n",
       "    <tr style=\"text-align: right;\">\n",
       "      <th></th>\n",
       "      <th>id</th>\n",
       "      <th>listing_url</th>\n",
       "      <th>scrape_id</th>\n",
       "      <th>last_scraped</th>\n",
       "      <th>name</th>\n",
       "      <th>summary</th>\n",
       "      <th>space</th>\n",
       "      <th>description</th>\n",
       "      <th>experiences_offered</th>\n",
       "      <th>neighborhood_overview</th>\n",
       "      <th>...</th>\n",
       "      <th>instant_bookable</th>\n",
       "      <th>is_business_travel_ready</th>\n",
       "      <th>cancellation_policy</th>\n",
       "      <th>require_guest_profile_picture</th>\n",
       "      <th>require_guest_phone_verification</th>\n",
       "      <th>calculated_host_listings_count</th>\n",
       "      <th>calculated_host_listings_count_entire_homes</th>\n",
       "      <th>calculated_host_listings_count_private_rooms</th>\n",
       "      <th>calculated_host_listings_count_shared_rooms</th>\n",
       "      <th>reviews_per_month</th>\n",
       "    </tr>\n",
       "  </thead>\n",
       "  <tbody>\n",
       "    <tr>\n",
       "      <th>0</th>\n",
       "      <td>2818</td>\n",
       "      <td>https://www.airbnb.com/rooms/2818</td>\n",
       "      <td>20190708161114</td>\n",
       "      <td>2019-07-09</td>\n",
       "      <td>Quiet Garden View Room &amp; Super Fast WiFi</td>\n",
       "      <td>Quiet Garden View Room &amp; Super Fast WiFi</td>\n",
       "      <td>I'm renting a bedroom (room overlooking the ga...</td>\n",
       "      <td>Quiet Garden View Room &amp; Super Fast WiFi I'm r...</td>\n",
       "      <td>none</td>\n",
       "      <td>Indische Buurt (\"Indies Neighborhood\") is a ne...</td>\n",
       "      <td>...</td>\n",
       "      <td>t</td>\n",
       "      <td>f</td>\n",
       "      <td>strict_14_with_grace_period</td>\n",
       "      <td>f</td>\n",
       "      <td>f</td>\n",
       "      <td>1</td>\n",
       "      <td>0</td>\n",
       "      <td>1</td>\n",
       "      <td>0</td>\n",
       "      <td>2.09</td>\n",
       "    </tr>\n",
       "    <tr>\n",
       "      <th>1</th>\n",
       "      <td>20168</td>\n",
       "      <td>https://www.airbnb.com/rooms/20168</td>\n",
       "      <td>20190708161114</td>\n",
       "      <td>2019-07-09</td>\n",
       "      <td>Studio with private bathroom in the centre 1</td>\n",
       "      <td>Cozy studio on your own private floor, 100% in...</td>\n",
       "      <td>For those who like all facets of city life. In...</td>\n",
       "      <td>Cozy studio on your own private floor, 100% in...</td>\n",
       "      <td>none</td>\n",
       "      <td>Located just in between famous central canals....</td>\n",
       "      <td>...</td>\n",
       "      <td>f</td>\n",
       "      <td>f</td>\n",
       "      <td>strict_14_with_grace_period</td>\n",
       "      <td>f</td>\n",
       "      <td>f</td>\n",
       "      <td>2</td>\n",
       "      <td>0</td>\n",
       "      <td>2</td>\n",
       "      <td>0</td>\n",
       "      <td>2.45</td>\n",
       "    </tr>\n",
       "    <tr>\n",
       "      <th>2</th>\n",
       "      <td>25428</td>\n",
       "      <td>https://www.airbnb.com/rooms/25428</td>\n",
       "      <td>20190708161114</td>\n",
       "      <td>2019-07-09</td>\n",
       "      <td>Lovely apt in City Centre (w.lift) near Jordaan</td>\n",
       "      <td>NaN</td>\n",
       "      <td>This nicely furnished, newly renovated apt  is...</td>\n",
       "      <td>This nicely furnished, newly renovated apt  is...</td>\n",
       "      <td>none</td>\n",
       "      <td>NaN</td>\n",
       "      <td>...</td>\n",
       "      <td>f</td>\n",
       "      <td>f</td>\n",
       "      <td>strict_14_with_grace_period</td>\n",
       "      <td>f</td>\n",
       "      <td>f</td>\n",
       "      <td>2</td>\n",
       "      <td>2</td>\n",
       "      <td>0</td>\n",
       "      <td>0</td>\n",
       "      <td>0.17</td>\n",
       "    </tr>\n",
       "    <tr>\n",
       "      <th>3</th>\n",
       "      <td>27886</td>\n",
       "      <td>https://www.airbnb.com/rooms/27886</td>\n",
       "      <td>20190708161114</td>\n",
       "      <td>2019-07-09</td>\n",
       "      <td>Romantic, stylish B&amp;B houseboat in canal district</td>\n",
       "      <td>Stylish and romantic houseboat on fantastic hi...</td>\n",
       "      <td>For a romantic couple: A beautifully restored ...</td>\n",
       "      <td>Stylish and romantic houseboat on fantastic hi...</td>\n",
       "      <td>none</td>\n",
       "      <td>Central, quiet, safe, clean and beautiful.</td>\n",
       "      <td>...</td>\n",
       "      <td>t</td>\n",
       "      <td>f</td>\n",
       "      <td>strict_14_with_grace_period</td>\n",
       "      <td>f</td>\n",
       "      <td>f</td>\n",
       "      <td>1</td>\n",
       "      <td>0</td>\n",
       "      <td>1</td>\n",
       "      <td>0</td>\n",
       "      <td>2.14</td>\n",
       "    </tr>\n",
       "    <tr>\n",
       "      <th>4</th>\n",
       "      <td>28871</td>\n",
       "      <td>https://www.airbnb.com/rooms/28871</td>\n",
       "      <td>20190708161114</td>\n",
       "      <td>2019-07-09</td>\n",
       "      <td>Comfortable double room</td>\n",
       "      <td>NaN</td>\n",
       "      <td>In a monumental house right in the center of A...</td>\n",
       "      <td>In a monumental house right in the center of A...</td>\n",
       "      <td>none</td>\n",
       "      <td>NaN</td>\n",
       "      <td>...</td>\n",
       "      <td>f</td>\n",
       "      <td>f</td>\n",
       "      <td>moderate</td>\n",
       "      <td>f</td>\n",
       "      <td>f</td>\n",
       "      <td>3</td>\n",
       "      <td>0</td>\n",
       "      <td>3</td>\n",
       "      <td>0</td>\n",
       "      <td>2.56</td>\n",
       "    </tr>\n",
       "  </tbody>\n",
       "</table>\n",
       "<p>5 rows × 106 columns</p>\n",
       "</div>"
      ],
      "text/plain": [
       "      id                         listing_url       scrape_id last_scraped  \\\n",
       "0   2818   https://www.airbnb.com/rooms/2818  20190708161114   2019-07-09   \n",
       "1  20168  https://www.airbnb.com/rooms/20168  20190708161114   2019-07-09   \n",
       "2  25428  https://www.airbnb.com/rooms/25428  20190708161114   2019-07-09   \n",
       "3  27886  https://www.airbnb.com/rooms/27886  20190708161114   2019-07-09   \n",
       "4  28871  https://www.airbnb.com/rooms/28871  20190708161114   2019-07-09   \n",
       "\n",
       "                                                name  \\\n",
       "0           Quiet Garden View Room & Super Fast WiFi   \n",
       "1       Studio with private bathroom in the centre 1   \n",
       "2    Lovely apt in City Centre (w.lift) near Jordaan   \n",
       "3  Romantic, stylish B&B houseboat in canal district   \n",
       "4                            Comfortable double room   \n",
       "\n",
       "                                             summary  \\\n",
       "0           Quiet Garden View Room & Super Fast WiFi   \n",
       "1  Cozy studio on your own private floor, 100% in...   \n",
       "2                                                NaN   \n",
       "3  Stylish and romantic houseboat on fantastic hi...   \n",
       "4                                                NaN   \n",
       "\n",
       "                                               space  \\\n",
       "0  I'm renting a bedroom (room overlooking the ga...   \n",
       "1  For those who like all facets of city life. In...   \n",
       "2  This nicely furnished, newly renovated apt  is...   \n",
       "3  For a romantic couple: A beautifully restored ...   \n",
       "4  In a monumental house right in the center of A...   \n",
       "\n",
       "                                         description experiences_offered  \\\n",
       "0  Quiet Garden View Room & Super Fast WiFi I'm r...                none   \n",
       "1  Cozy studio on your own private floor, 100% in...                none   \n",
       "2  This nicely furnished, newly renovated apt  is...                none   \n",
       "3  Stylish and romantic houseboat on fantastic hi...                none   \n",
       "4  In a monumental house right in the center of A...                none   \n",
       "\n",
       "                               neighborhood_overview        ...          \\\n",
       "0  Indische Buurt (\"Indies Neighborhood\") is a ne...        ...           \n",
       "1  Located just in between famous central canals....        ...           \n",
       "2                                                NaN        ...           \n",
       "3         Central, quiet, safe, clean and beautiful.        ...           \n",
       "4                                                NaN        ...           \n",
       "\n",
       "  instant_bookable is_business_travel_ready          cancellation_policy  \\\n",
       "0                t                        f  strict_14_with_grace_period   \n",
       "1                f                        f  strict_14_with_grace_period   \n",
       "2                f                        f  strict_14_with_grace_period   \n",
       "3                t                        f  strict_14_with_grace_period   \n",
       "4                f                        f                     moderate   \n",
       "\n",
       "  require_guest_profile_picture require_guest_phone_verification  \\\n",
       "0                             f                                f   \n",
       "1                             f                                f   \n",
       "2                             f                                f   \n",
       "3                             f                                f   \n",
       "4                             f                                f   \n",
       "\n",
       "   calculated_host_listings_count  \\\n",
       "0                               1   \n",
       "1                               2   \n",
       "2                               2   \n",
       "3                               1   \n",
       "4                               3   \n",
       "\n",
       "   calculated_host_listings_count_entire_homes  \\\n",
       "0                                            0   \n",
       "1                                            0   \n",
       "2                                            2   \n",
       "3                                            0   \n",
       "4                                            0   \n",
       "\n",
       "  calculated_host_listings_count_private_rooms  \\\n",
       "0                                            1   \n",
       "1                                            2   \n",
       "2                                            0   \n",
       "3                                            1   \n",
       "4                                            3   \n",
       "\n",
       "   calculated_host_listings_count_shared_rooms  reviews_per_month  \n",
       "0                                            0               2.09  \n",
       "1                                            0               2.45  \n",
       "2                                            0               0.17  \n",
       "3                                            0               2.14  \n",
       "4                                            0               2.56  \n",
       "\n",
       "[5 rows x 106 columns]"
      ]
     },
     "execution_count": 384,
     "metadata": {},
     "output_type": "execute_result"
    }
   ],
   "source": [
    "listings.head()"
   ]
  },
  {
   "cell_type": "code",
   "execution_count": 385,
   "metadata": {
    "scrolled": true
   },
   "outputs": [
    {
     "data": {
      "text/plain": [
       "id                                                int64\n",
       "listing_url                                      object\n",
       "scrape_id                                         int64\n",
       "last_scraped                                     object\n",
       "name                                             object\n",
       "summary                                          object\n",
       "space                                            object\n",
       "description                                      object\n",
       "experiences_offered                              object\n",
       "neighborhood_overview                            object\n",
       "notes                                            object\n",
       "transit                                          object\n",
       "access                                           object\n",
       "interaction                                      object\n",
       "house_rules                                      object\n",
       "thumbnail_url                                   float64\n",
       "medium_url                                      float64\n",
       "picture_url                                      object\n",
       "xl_picture_url                                  float64\n",
       "host_id                                           int64\n",
       "host_url                                         object\n",
       "host_name                                        object\n",
       "host_since                                       object\n",
       "host_location                                    object\n",
       "host_about                                       object\n",
       "host_response_time                               object\n",
       "host_response_rate                               object\n",
       "host_acceptance_rate                            float64\n",
       "host_is_superhost                                object\n",
       "host_thumbnail_url                               object\n",
       "                                                 ...   \n",
       "has_availability                                 object\n",
       "availability_30                                   int64\n",
       "availability_60                                   int64\n",
       "availability_90                                   int64\n",
       "availability_365                                  int64\n",
       "calendar_last_scraped                            object\n",
       "number_of_reviews                                 int64\n",
       "number_of_reviews_ltm                             int64\n",
       "first_review                                     object\n",
       "last_review                                      object\n",
       "review_scores_rating                            float64\n",
       "review_scores_accuracy                          float64\n",
       "review_scores_cleanliness                       float64\n",
       "review_scores_checkin                           float64\n",
       "review_scores_communication                     float64\n",
       "review_scores_location                          float64\n",
       "review_scores_value                             float64\n",
       "requires_license                                 object\n",
       "license                                          object\n",
       "jurisdiction_names                               object\n",
       "instant_bookable                                 object\n",
       "is_business_travel_ready                         object\n",
       "cancellation_policy                              object\n",
       "require_guest_profile_picture                    object\n",
       "require_guest_phone_verification                 object\n",
       "calculated_host_listings_count                    int64\n",
       "calculated_host_listings_count_entire_homes       int64\n",
       "calculated_host_listings_count_private_rooms      int64\n",
       "calculated_host_listings_count_shared_rooms       int64\n",
       "reviews_per_month                               float64\n",
       "Length: 106, dtype: object"
      ]
     },
     "execution_count": 385,
     "metadata": {},
     "output_type": "execute_result"
    }
   ],
   "source": [
    "listings.dtypes"
   ]
  },
  {
   "cell_type": "code",
   "execution_count": 386,
   "metadata": {},
   "outputs": [
    {
     "data": {
      "text/plain": [
       "neighbourhood_group_cleansed                    20337\n",
       "host_acceptance_rate                            20337\n",
       "medium_url                                      20337\n",
       "thumbnail_url                                   20337\n",
       "xl_picture_url                                  20337\n",
       "license                                         20323\n",
       "square_feet                                     19948\n",
       "monthly_price                                   18916\n",
       "weekly_price                                    17714\n",
       "notes                                           11192\n",
       "host_response_time                               8578\n",
       "host_response_rate                               8578\n",
       "host_about                                       8447\n",
       "access                                           8149\n",
       "interaction                                      7850\n",
       "house_rules                                      7656\n",
       "neighborhood_overview                            6486\n",
       "transit                                          6214\n",
       "security_deposit                                 6102\n",
       "host_neighbourhood                               5844\n",
       "space                                            5321\n",
       "cleaning_fee                                     3646\n",
       "review_scores_checkin                            2793\n",
       "review_scores_location                           2792\n",
       "review_scores_value                              2791\n",
       "review_scores_communication                      2786\n",
       "review_scores_accuracy                           2784\n",
       "review_scores_cleanliness                        2782\n",
       "review_scores_rating                             2773\n",
       "first_review                                     2540\n",
       "                                                ...  \n",
       "instant_bookable                                    0\n",
       "is_business_travel_ready                            0\n",
       "cancellation_policy                                 0\n",
       "require_guest_profile_picture                       0\n",
       "require_guest_phone_verification                    0\n",
       "calculated_host_listings_count                      0\n",
       "calculated_host_listings_count_entire_homes         0\n",
       "calculated_host_listings_count_private_rooms        0\n",
       "calendar_updated                                    0\n",
       "minimum_nights_avg_ntm                              0\n",
       "country_code                                        0\n",
       "maximum_maximum_nights                              0\n",
       "country                                             0\n",
       "latitude                                            0\n",
       "longitude                                           0\n",
       "is_location_exact                                   0\n",
       "property_type                                       0\n",
       "calculated_host_listings_count_shared_rooms         0\n",
       "accommodates                                        0\n",
       "bed_type                                            0\n",
       "amenities                                           0\n",
       "price                                               0\n",
       "guests_included                                     0\n",
       "extra_people                                        0\n",
       "minimum_nights                                      0\n",
       "maximum_nights                                      0\n",
       "minimum_minimum_nights                              0\n",
       "maximum_minimum_nights                              0\n",
       "minimum_maximum_nights                              0\n",
       "id                                                  0\n",
       "Length: 106, dtype: int64"
      ]
     },
     "execution_count": 386,
     "metadata": {},
     "output_type": "execute_result"
    }
   ],
   "source": [
    "#Columns with missing values\n",
    "listings.isna().sum().sort_values(ascending=False) "
   ]
  },
  {
   "cell_type": "code",
   "execution_count": 387,
   "metadata": {},
   "outputs": [
    {
     "data": {
      "text/plain": [
       "(472846, 6)"
      ]
     },
     "execution_count": 387,
     "metadata": {},
     "output_type": "execute_result"
    }
   ],
   "source": [
    "reviews.shape"
   ]
  },
  {
   "cell_type": "code",
   "execution_count": 388,
   "metadata": {},
   "outputs": [
    {
     "data": {
      "text/html": [
       "<div>\n",
       "<style scoped>\n",
       "    .dataframe tbody tr th:only-of-type {\n",
       "        vertical-align: middle;\n",
       "    }\n",
       "\n",
       "    .dataframe tbody tr th {\n",
       "        vertical-align: top;\n",
       "    }\n",
       "\n",
       "    .dataframe thead th {\n",
       "        text-align: right;\n",
       "    }\n",
       "</style>\n",
       "<table border=\"1\" class=\"dataframe\">\n",
       "  <thead>\n",
       "    <tr style=\"text-align: right;\">\n",
       "      <th></th>\n",
       "      <th>listing_id</th>\n",
       "      <th>id</th>\n",
       "      <th>date</th>\n",
       "      <th>reviewer_id</th>\n",
       "      <th>reviewer_name</th>\n",
       "      <th>comments</th>\n",
       "    </tr>\n",
       "  </thead>\n",
       "  <tbody>\n",
       "    <tr>\n",
       "      <th>0</th>\n",
       "      <td>2818</td>\n",
       "      <td>1191</td>\n",
       "      <td>2009-03-30</td>\n",
       "      <td>10952</td>\n",
       "      <td>Lam</td>\n",
       "      <td>Daniel is really cool. The place was nice and ...</td>\n",
       "    </tr>\n",
       "    <tr>\n",
       "      <th>1</th>\n",
       "      <td>2818</td>\n",
       "      <td>1771</td>\n",
       "      <td>2009-04-24</td>\n",
       "      <td>12798</td>\n",
       "      <td>Alice</td>\n",
       "      <td>Daniel is the most amazing host! His place is ...</td>\n",
       "    </tr>\n",
       "    <tr>\n",
       "      <th>2</th>\n",
       "      <td>2818</td>\n",
       "      <td>1989</td>\n",
       "      <td>2009-05-03</td>\n",
       "      <td>11869</td>\n",
       "      <td>Natalja</td>\n",
       "      <td>We had such a great time in Amsterdam. Daniel ...</td>\n",
       "    </tr>\n",
       "    <tr>\n",
       "      <th>3</th>\n",
       "      <td>2818</td>\n",
       "      <td>2797</td>\n",
       "      <td>2009-05-18</td>\n",
       "      <td>14064</td>\n",
       "      <td>Enrique</td>\n",
       "      <td>Very professional operation. Room is very clea...</td>\n",
       "    </tr>\n",
       "    <tr>\n",
       "      <th>4</th>\n",
       "      <td>2818</td>\n",
       "      <td>3151</td>\n",
       "      <td>2009-05-25</td>\n",
       "      <td>17977</td>\n",
       "      <td>Sherwin</td>\n",
       "      <td>Daniel is highly recommended.  He provided all...</td>\n",
       "    </tr>\n",
       "  </tbody>\n",
       "</table>\n",
       "</div>"
      ],
      "text/plain": [
       "   listing_id    id        date  reviewer_id reviewer_name  \\\n",
       "0        2818  1191  2009-03-30        10952           Lam   \n",
       "1        2818  1771  2009-04-24        12798         Alice   \n",
       "2        2818  1989  2009-05-03        11869       Natalja   \n",
       "3        2818  2797  2009-05-18        14064       Enrique   \n",
       "4        2818  3151  2009-05-25        17977       Sherwin   \n",
       "\n",
       "                                            comments  \n",
       "0  Daniel is really cool. The place was nice and ...  \n",
       "1  Daniel is the most amazing host! His place is ...  \n",
       "2  We had such a great time in Amsterdam. Daniel ...  \n",
       "3  Very professional operation. Room is very clea...  \n",
       "4  Daniel is highly recommended.  He provided all...  "
      ]
     },
     "execution_count": 388,
     "metadata": {},
     "output_type": "execute_result"
    }
   ],
   "source": [
    "reviews.head()"
   ]
  },
  {
   "cell_type": "markdown",
   "metadata": {},
   "source": [
    "### 2. Obtain prices per person per night\n",
    "\n",
    "One of the most important determinant for the renting cost per night is obviously the size of the property, which can be measured either through the area size in squared meters/feet but also in terms of number of people it can accommodate (the two being highly correlated). Rather than knowing about the size-driven price distribution of flats in Amsterdam, our analysis focuses on what is more interesting also for an average user of Airbnb when searching for a place to stay - prices **per person** per night.\n",
    "\n",
    "In the listings dataset the prices are quoted per night but not necessarily per person, therefore I normalize them before continuing the analysis. From the available data I can extract how many guests are included in the listed price of each property. In some cases the properties can accommodate more people than included in the quoted price, and charge extra costs per each additional person. In my normalization approach I calculate the prices corresponding to the maximum capacity of each property, from which I can infer the price per person per night. Afterwards I also remove price outliers using Tukey's rule."
   ]
  },
  {
   "cell_type": "code",
   "execution_count": 389,
   "metadata": {},
   "outputs": [
    {
     "data": {
      "text/html": [
       "<div>\n",
       "<style scoped>\n",
       "    .dataframe tbody tr th:only-of-type {\n",
       "        vertical-align: middle;\n",
       "    }\n",
       "\n",
       "    .dataframe tbody tr th {\n",
       "        vertical-align: top;\n",
       "    }\n",
       "\n",
       "    .dataframe thead th {\n",
       "        text-align: right;\n",
       "    }\n",
       "</style>\n",
       "<table border=\"1\" class=\"dataframe\">\n",
       "  <thead>\n",
       "    <tr style=\"text-align: right;\">\n",
       "      <th></th>\n",
       "      <th>price</th>\n",
       "      <th>accommodates</th>\n",
       "      <th>guests_included</th>\n",
       "      <th>extra_people</th>\n",
       "    </tr>\n",
       "  </thead>\n",
       "  <tbody>\n",
       "    <tr>\n",
       "      <th>0</th>\n",
       "      <td>$59.00</td>\n",
       "      <td>2</td>\n",
       "      <td>1</td>\n",
       "      <td>$20.00</td>\n",
       "    </tr>\n",
       "    <tr>\n",
       "      <th>1</th>\n",
       "      <td>$80.00</td>\n",
       "      <td>2</td>\n",
       "      <td>2</td>\n",
       "      <td>$0.00</td>\n",
       "    </tr>\n",
       "    <tr>\n",
       "      <th>2</th>\n",
       "      <td>$125.00</td>\n",
       "      <td>3</td>\n",
       "      <td>2</td>\n",
       "      <td>$10.00</td>\n",
       "    </tr>\n",
       "    <tr>\n",
       "      <th>3</th>\n",
       "      <td>$150.00</td>\n",
       "      <td>2</td>\n",
       "      <td>1</td>\n",
       "      <td>$0.00</td>\n",
       "    </tr>\n",
       "    <tr>\n",
       "      <th>4</th>\n",
       "      <td>$75.00</td>\n",
       "      <td>2</td>\n",
       "      <td>1</td>\n",
       "      <td>$0.00</td>\n",
       "    </tr>\n",
       "  </tbody>\n",
       "</table>\n",
       "</div>"
      ],
      "text/plain": [
       "     price  accommodates  guests_included extra_people\n",
       "0   $59.00             2                1       $20.00\n",
       "1   $80.00             2                2        $0.00\n",
       "2  $125.00             3                2       $10.00\n",
       "3  $150.00             2                1        $0.00\n",
       "4   $75.00             2                1        $0.00"
      ]
     },
     "execution_count": 389,
     "metadata": {},
     "output_type": "execute_result"
    }
   ],
   "source": [
    "#The columns needed for calculation\n",
    "listings[['price', 'accommodates', 'guests_included', 'extra_people']].head()"
   ]
  },
  {
   "cell_type": "code",
   "execution_count": 390,
   "metadata": {},
   "outputs": [
    {
     "data": {
      "text/plain": [
       "price              0\n",
       "accommodates       0\n",
       "guests_included    0\n",
       "extra_people       0\n",
       "dtype: int64"
      ]
     },
     "execution_count": 390,
     "metadata": {},
     "output_type": "execute_result"
    }
   ],
   "source": [
    "#The columns needed for calculation do not have any missing values\n",
    "listings[['price', 'accommodates', 'guests_included', 'extra_people']].isna().sum()"
   ]
  },
  {
   "cell_type": "code",
   "execution_count": 391,
   "metadata": {},
   "outputs": [],
   "source": [
    "#Convert the prices to numerical variable\n",
    "price_clean = listings['price'].str.replace(\"$\",\"\").str.replace(',','').astype(float)"
   ]
  },
  {
   "cell_type": "code",
   "execution_count": 392,
   "metadata": {},
   "outputs": [],
   "source": [
    "#Obtain the number of people that can be accommodated but are not included in the price\n",
    "extra_space = (listings['accommodates'] - listings['guests_included'])\n",
    "#Due to inconsistencies in the imported data this number is negative in some rare cases. We floor it to 0.\n",
    "extra_space = extra_space.apply(lambda x: 0 if x<0 else x)\n",
    "#-calculate the extra costs\n",
    "extra_price = extra_space*listings['extra_people'].str.replace(\"$\",\"\").str.replace(',','').astype(float)"
   ]
  },
  {
   "cell_type": "code",
   "execution_count": 393,
   "metadata": {},
   "outputs": [],
   "source": [
    "#Obtain the price at full capacity and calculate price per person per night\n",
    "listings['price_pp'] = (price_clean + extra_price) / listings['accommodates']"
   ]
  },
  {
   "cell_type": "code",
   "execution_count": 394,
   "metadata": {},
   "outputs": [
    {
     "data": {
      "image/png": "[encoded data removed]",
      "text/plain": [
       "<Figure size 864x360 with 1 Axes>"
      ]
     },
     "metadata": {
      "needs_background": "light"
     },
     "output_type": "display_data"
    }
   ],
   "source": [
    "#Distribution of prices\n",
    "plt.rcParams['figure.figsize'] = [12, 5]\n",
    "sns.distplot(listings['price_pp']);"
   ]
  },
  {
   "cell_type": "code",
   "execution_count": 395,
   "metadata": {},
   "outputs": [
    {
     "data": {
      "text/plain": [
       "(-40.0, 152.5)"
      ]
     },
     "execution_count": 395,
     "metadata": {},
     "output_type": "execute_result"
    }
   ],
   "source": [
    "#Remove outliers using Tukey rule\n",
    "IQR = listings['price_pp'].quantile(0.75) - listings['price_pp'].quantile(0.25)\n",
    "lower_bound = listings['price_pp'].quantile(0.25) - 3*IQR\n",
    "upper_bound = listings['price_pp'].quantile(0.75) + 3*IQR\n",
    "lower_bound, upper_bound"
   ]
  },
  {
   "cell_type": "code",
   "execution_count": 396,
   "metadata": {},
   "outputs": [],
   "source": [
    "#Override lower bound with a positive number \n",
    "lower_bound = 5\n",
    "listings = listings[(listings['price_pp']>lower_bound) & (listings['price_pp']<upper_bound)]"
   ]
  },
  {
   "cell_type": "code",
   "execution_count": 397,
   "metadata": {},
   "outputs": [
    {
     "data": {
      "text/plain": [
       "(20114, 107)"
      ]
     },
     "execution_count": 397,
     "metadata": {},
     "output_type": "execute_result"
    }
   ],
   "source": [
    "listings.shape"
   ]
  },
  {
   "cell_type": "code",
   "execution_count": 398,
   "metadata": {},
   "outputs": [
    {
     "data": {
      "image/png": "[encoded data removed]",
      "text/plain": [
       "<Figure size 864x360 with 1 Axes>"
      ]
     },
     "metadata": {
      "needs_background": "light"
     },
     "output_type": "display_data"
    }
   ],
   "source": [
    "#Distribution of prices after removing outliers\n",
    "plt.rcParams['figure.figsize'] = [12, 5]\n",
    "sns.distplot(listings['price_pp']);"
   ]
  },
  {
   "cell_type": "markdown",
   "metadata": {},
   "source": [
    "### 3. Calculate average price in each neighborhood\n",
    "\n",
    "In the following I analyze the lisitings data specific to different neighborhoods and most importantly calculate the average price in each of them. In order not to compare apples and oranges, I only perform the analysis on the \"Entire home/apt' offers that represent the majority of listings in the dataset (~80%). To make results as comparable as possible, I also repeat the analysis only using prices of 2-person apartments (as an additional control of other variables, despite the fact that I already work with prices per person which should adjust for the size). The simple analysis is repeated on different susbets of the original dataset, so it is easiest I implement the process of calculating and visualizing average prices in a function."
   ]
  },
  {
   "cell_type": "code",
   "execution_count": 399,
   "metadata": {},
   "outputs": [
    {
     "data": {
      "text/plain": [
       "neighbourhood_cleansed\n",
       "De Baarsjes - Oud-West                    3449\n",
       "De Pijp - Rivierenbuurt                   2480\n",
       "Centrum-West                              2253\n",
       "Centrum-Oost                              1742\n",
       "Westerpark                                1495\n",
       "Zuid                                      1396\n",
       "Oud-Oost                                  1342\n",
       "Bos en Lommer                             1159\n",
       "Oostelijk Havengebied - Indische Buurt     963\n",
       "Oud-Noord                                  607\n",
       "Watergraafsmeer                            576\n",
       "IJburg - Zeeburgereiland                   488\n",
       "Slotervaart                                394\n",
       "Noord-West                                 362\n",
       "Noord-Oost                                 279\n",
       "Buitenveldert - Zuidas                     259\n",
       "Geuzenveld - Slotermeer                    217\n",
       "De Aker - Nieuw Sloten                     147\n",
       "Gaasperdam - Driemond                      141\n",
       "Osdorp                                     141\n",
       "Bijlmer-Centrum                            117\n",
       "Bijlmer-Oost                               107\n",
       "Name: id, dtype: int64"
      ]
     },
     "execution_count": 399,
     "metadata": {},
     "output_type": "execute_result"
    }
   ],
   "source": [
    "#The number of listings in each neighbourhood\n",
    "listings.groupby('neighbourhood_cleansed').count()['id'].sort_values(ascending = False)"
   ]
  },
  {
   "cell_type": "code",
   "execution_count": 400,
   "metadata": {},
   "outputs": [
    {
     "data": {
      "text/plain": [
       "room_type\n",
       "Entire home/apt    15975\n",
       "Private room        4076\n",
       "Shared room           63\n",
       "Name: id, dtype: int64"
      ]
     },
     "execution_count": 400,
     "metadata": {},
     "output_type": "execute_result"
    }
   ],
   "source": [
    "#The distribution of offer type in the listings dataset\n",
    "listings.groupby(['room_type'])['id'].count()"
   ]
  },
  {
   "cell_type": "code",
   "execution_count": 401,
   "metadata": {},
   "outputs": [
    {
     "data": {
      "text/plain": [
       "accommodates\n",
       "1       444\n",
       "2     10869\n",
       "3      1607\n",
       "4      6208\n",
       "5       391\n",
       "6       402\n",
       "7        48\n",
       "8        81\n",
       "9         8\n",
       "10       11\n",
       "11        3\n",
       "12       11\n",
       "14        3\n",
       "16       27\n",
       "17        1\n",
       "Name: id, dtype: int64"
      ]
     },
     "execution_count": 401,
     "metadata": {},
     "output_type": "execute_result"
    }
   ],
   "source": [
    "#The distribution of the apartment size in the listings dataset, measured by the number of people that can be accommodated\n",
    "listings.groupby(['accommodates'])['id'].count()"
   ]
  },
  {
   "cell_type": "code",
   "execution_count": 402,
   "metadata": {},
   "outputs": [],
   "source": [
    "def price_neighborhood(df, filters = None):\n",
    "    \"\"\"\" Calculates and visualizes the average price per person per night in each neighborhood. \n",
    "    Filters can be applied so the analysis can be repeated on different subsets of the original dataframe.\n",
    "    \n",
    "    Parameters\n",
    "    ----------\n",
    "    df : DataFrame, detailed data of Airbnb listings including their price per person per night\n",
    "    filters: dict, column - value pairs used to filter the dataset\n",
    "    \n",
    "    Returns\n",
    "    -------\n",
    "    None\n",
    "    \"\"\"\n",
    "    \n",
    "    #Empty Filter\n",
    "    bools = [True]*df.shape[0]\n",
    "    \n",
    "    #Combine all the filters\n",
    "    if filters:\n",
    "        for column, value in filters.items():\n",
    "            additional_filter = (df[column] == value)\n",
    "            bools = bools & additional_filter\n",
    "\n",
    "    #Apply the filters\n",
    "    df_filtered = df[bools]\n",
    "        \n",
    "    #Calculate average prices in different neighborhoods\n",
    "    avg_prices = df_filtered.groupby(['neighbourhood_cleansed'])['price_pp'].mean().sort_values(ascending = False)\n",
    "    \n",
    "    #Store them in a dataframe\n",
    "    avg_prices_df = pd.DataFrame(avg_prices).reset_index()\n",
    "\n",
    "    #Visualize the results\n",
    "    colors = sns.color_palette('pastel')\n",
    "    sns.barplot(y = 'neighbourhood_cleansed', x = 'price_pp', data = avg_prices_df, orient='h', color= colors[0])\n",
    "    plt.xlabel('Average Price per Person per Night')\n",
    "    plt.ylabel('Amsterdam neighborhoods')\n",
    "    \n",
    "    return avg_prices_df"
   ]
  },
  {
   "cell_type": "code",
   "execution_count": 486,
   "metadata": {},
   "outputs": [
    {
     "data": {
      "image/png": "[encoded data removed]",
      "text/plain": [
       "<Figure size 1008x720 with 1 Axes>"
      ]
     },
     "metadata": {
      "needs_background": "light"
     },
     "output_type": "display_data"
    }
   ],
   "source": [
    "#Average prices for different neighborhoods, all listings\n",
    "plt.rcParams['figure.figsize'] = [14, 10]\n",
    "all_avg = price_neighborhood(listings);"
   ]
  },
  {
   "cell_type": "code",
   "execution_count": 487,
   "metadata": {},
   "outputs": [
    {
     "data": {
      "image/png": "[encoded data removed]",
      "text/plain": [
       "<Figure size 1008x720 with 1 Axes>"
      ]
     },
     "metadata": {
      "needs_background": "light"
     },
     "output_type": "display_data"
    }
   ],
   "source": [
    "#Average prices for different neighborhoods, entire home/apartment listings only\n",
    "homeapt_avg = price_neighborhood(listings, {'room_type': 'Entire home/apt'});"
   ]
  },
  {
   "cell_type": "code",
   "execution_count": 488,
   "metadata": {},
   "outputs": [
    {
     "data": {
      "image/png": "[encoded data removed]",
      "text/plain": [
       "<Figure size 1008x720 with 1 Axes>"
      ]
     },
     "metadata": {
      "needs_background": "light"
     },
     "output_type": "display_data"
    }
   ],
   "source": [
    "#Average prices for different neighborhoods, entire 2-person home/apartment listings only\n",
    "homeopt2_avg = price_neighborhood(listings, {'room_type': 'Entire home/apt', 'accommodates':2});"
   ]
  },
  {
   "cell_type": "code",
   "execution_count": 489,
   "metadata": {},
   "outputs": [
    {
     "data": {
      "image/png": "[encoded data removed]",
      "text/plain": [
       "<Figure size 1008x720 with 1 Axes>"
      ]
     },
     "metadata": {
      "needs_background": "light"
     },
     "output_type": "display_data"
    }
   ],
   "source": [
    "#Average prices for different neighborhoods, private rooms only\n",
    "private_avg = price_neighborhood(listings, {'room_type': 'Private room'});"
   ]
  },
  {
   "cell_type": "markdown",
   "metadata": {},
   "source": [
    "#### Observations: "
   ]
  },
  {
   "cell_type": "markdown",
   "metadata": {},
   "source": [
    "### 4.  Compare the percentage of reviews with positive comments about the location\n",
    "It is common that the user reviews include statements about the flat location. In this part of the analysis I use NLP/text processing techniques to extract reviews that include positive comments about the property location, and then obtain, through mapping (user reviews from the `reviews`dataset are mapped to the corresponding listings in the `listings`dataset) and aggregation (listings to neighborhoods), percentage of positive location reviews in each neighborhood. In this way I can analyze whether the users' opinions about the location are in line with the location-driven price differences, and potentially identify districts that seem under/over-priced given their location."
   ]
  },
  {
   "cell_type": "code",
   "execution_count": 407,
   "metadata": {},
   "outputs": [
    {
     "data": {
      "text/plain": [
       "listing_id         0\n",
       "id                 0\n",
       "date               0\n",
       "reviewer_id        0\n",
       "reviewer_name      0\n",
       "comments         195\n",
       "dtype: int64"
      ]
     },
     "execution_count": 407,
     "metadata": {},
     "output_type": "execute_result"
    }
   ],
   "source": [
    "#Identify missing values\n",
    "reviews.isna().sum()"
   ]
  },
  {
   "cell_type": "code",
   "execution_count": 408,
   "metadata": {},
   "outputs": [],
   "source": [
    "#Fill in the missing comments\n",
    "reviews['comments'].fillna('No Comment', inplace = True)"
   ]
  },
  {
   "cell_type": "code",
   "execution_count": 409,
   "metadata": {},
   "outputs": [],
   "source": [
    "def positive_sentiment(text):\n",
    "    \"\"\"\" Splits the input text into sentences, and determines whether there exists\n",
    "    a sentence that includes a positive comment about the flat location.\n",
    "    \n",
    "    Parameters\n",
    "    ----------\n",
    "    text : str, analyzed user review\n",
    "    \n",
    "    Returns\n",
    "    -------\n",
    "    positive_flag: boolean, indicates whether the review includes a positive comment about the location\n",
    "    \"\"\"\n",
    "    \n",
    "    #Split the input text into sentences\n",
    "    sentences = sent_tokenize(text)\n",
    "    \n",
    "    #Clean the sentences and keep the ones that include the keyword 'location'\n",
    "    sentences_clean = [re.sub(r'[^a-zA-Z0-9]', ' ', sent.lower()).strip() for sent in sentences \n",
    "                       if 'location' in sent.lower()]\n",
    "    \n",
    "    #In case there are more sentences describing location, merge them together as one long sentence\n",
    "    one_string = \" \".join(sentences_clean)\n",
    "    \n",
    "    #Tokenize the sentence into words\n",
    "    location_words = set(word_tokenize(one_string))\n",
    "    \n",
    "    #Define words that represent positive sentiment\n",
    "    positive_words = ['central', 'good', 'nice', 'best', 'great', 'perfect', 'excellent', \n",
    "            'superb', 'amazing', 'awesome', 'incredible', 'wonderful']\n",
    "    \n",
    "    #Determine whether the (merged) sentence about the location includes any of the positive words and \n",
    "    #excludes the word 'not' \n",
    "    if ((len(location_words.intersection(positive_words))  >=1) & ('not' not in location_words)):\n",
    "        positive_flag = True\n",
    "    else: \n",
    "        positive_flag = False\n",
    "    \n",
    "    return positive_flag"
   ]
  },
  {
   "cell_type": "code",
   "execution_count": 410,
   "metadata": {},
   "outputs": [],
   "source": [
    "#Create a new column that identifies positive location reviews\n",
    "reviews['positive_location_review'] = reviews['comments'].apply(positive_sentiment)"
   ]
  },
  {
   "cell_type": "code",
   "execution_count": 411,
   "metadata": {},
   "outputs": [
    {
     "data": {
      "text/plain": [
       "99884"
      ]
     },
     "execution_count": 411,
     "metadata": {},
     "output_type": "execute_result"
    }
   ],
   "source": [
    "#Total umber of positive location reviews\n",
    "reviews['positive_location_review'].sum()"
   ]
  },
  {
   "cell_type": "code",
   "execution_count": 412,
   "metadata": {},
   "outputs": [
    {
     "data": {
      "text/plain": [
       "0.21124002317879395"
      ]
     },
     "execution_count": 412,
     "metadata": {},
     "output_type": "execute_result"
    }
   ],
   "source": [
    "#Total relative number of positive location reviews\n",
    "reviews['positive_location_review'].sum()/reviews.shape[0]"
   ]
  },
  {
   "cell_type": "code",
   "execution_count": 413,
   "metadata": {},
   "outputs": [],
   "source": [
    "#Count the number of reviews per listing and number of positive location reviews per listing\n",
    "review_counts = reviews.groupby('listing_id')['positive_location_review'].count()\n",
    "positive_review_counts = reviews.groupby('listing_id')['positive_location_review'].sum()"
   ]
  },
  {
   "cell_type": "code",
   "execution_count": 414,
   "metadata": {},
   "outputs": [],
   "source": [
    "#Store the information into a dataframe\n",
    "review_counts_df = pd.concat([review_counts, positive_review_counts],axis=1)\n",
    "review_counts_df.columns = ['total_count','positive_count']\n",
    "review_counts_df.index.name = 'id'"
   ]
  },
  {
   "cell_type": "code",
   "execution_count": 425,
   "metadata": {},
   "outputs": [],
   "source": [
    "#Map the newly calculated information to the entries in the listings dataframe. Apply filters here too.\n",
    "listings_data = listings[['id','neighbourhood_cleansed']]\n",
    "additional_filter = (listings['room_type'] == 'Entire home/apt')\n",
    "listings_data = listings_data[additional_filter]\n",
    "merged_df = listings_data.merge(review_counts_df, on ='id')"
   ]
  },
  {
   "cell_type": "code",
   "execution_count": 426,
   "metadata": {},
   "outputs": [
    {
     "data": {
      "text/html": [
       "<div>\n",
       "<style scoped>\n",
       "    .dataframe tbody tr th:only-of-type {\n",
       "        vertical-align: middle;\n",
       "    }\n",
       "\n",
       "    .dataframe tbody tr th {\n",
       "        vertical-align: top;\n",
       "    }\n",
       "\n",
       "    .dataframe thead th {\n",
       "        text-align: right;\n",
       "    }\n",
       "</style>\n",
       "<table border=\"1\" class=\"dataframe\">\n",
       "  <thead>\n",
       "    <tr style=\"text-align: right;\">\n",
       "      <th></th>\n",
       "      <th>id</th>\n",
       "      <th>neighbourhood_cleansed</th>\n",
       "      <th>total_count</th>\n",
       "      <th>positive_count</th>\n",
       "    </tr>\n",
       "  </thead>\n",
       "  <tbody>\n",
       "    <tr>\n",
       "      <th>0</th>\n",
       "      <td>25428</td>\n",
       "      <td>Centrum-West</td>\n",
       "      <td>3</td>\n",
       "      <td>2.0</td>\n",
       "    </tr>\n",
       "    <tr>\n",
       "      <th>1</th>\n",
       "      <td>31080</td>\n",
       "      <td>Zuid</td>\n",
       "      <td>32</td>\n",
       "      <td>4.0</td>\n",
       "    </tr>\n",
       "    <tr>\n",
       "      <th>2</th>\n",
       "      <td>38266</td>\n",
       "      <td>Centrum-West</td>\n",
       "      <td>199</td>\n",
       "      <td>57.0</td>\n",
       "    </tr>\n",
       "    <tr>\n",
       "      <th>3</th>\n",
       "      <td>41125</td>\n",
       "      <td>Centrum-West</td>\n",
       "      <td>85</td>\n",
       "      <td>29.0</td>\n",
       "    </tr>\n",
       "    <tr>\n",
       "      <th>4</th>\n",
       "      <td>43109</td>\n",
       "      <td>Centrum-West</td>\n",
       "      <td>690</td>\n",
       "      <td>31.0</td>\n",
       "    </tr>\n",
       "  </tbody>\n",
       "</table>\n",
       "</div>"
      ],
      "text/plain": [
       "      id neighbourhood_cleansed  total_count  positive_count\n",
       "0  25428           Centrum-West            3             2.0\n",
       "1  31080                   Zuid           32             4.0\n",
       "2  38266           Centrum-West          199            57.0\n",
       "3  41125           Centrum-West           85            29.0\n",
       "4  43109           Centrum-West          690            31.0"
      ]
     },
     "execution_count": 426,
     "metadata": {},
     "output_type": "execute_result"
    }
   ],
   "source": [
    "merged_df.head()"
   ]
  },
  {
   "cell_type": "code",
   "execution_count": 427,
   "metadata": {},
   "outputs": [
    {
     "data": {
      "text/plain": [
       "(13943, 4)"
      ]
     },
     "execution_count": 427,
     "metadata": {},
     "output_type": "execute_result"
    }
   ],
   "source": [
    "merged_df.shape"
   ]
  },
  {
   "cell_type": "code",
   "execution_count": 428,
   "metadata": {},
   "outputs": [],
   "source": [
    "#Calculate the total number of reviews per neighborhood and total number of positive location revies per neighborhood\n",
    "review_counts_nh = merged_df.iloc[:,1:].groupby('neighbourhood_cleansed').sum()\n",
    "review_counts_nh['positive_location_ratio'] = 100*review_counts_nh['positive_count'] / review_counts_nh['total_count']"
   ]
  },
  {
   "cell_type": "code",
   "execution_count": 429,
   "metadata": {},
   "outputs": [
    {
     "data": {
      "text/html": [
       "<div>\n",
       "<style scoped>\n",
       "    .dataframe tbody tr th:only-of-type {\n",
       "        vertical-align: middle;\n",
       "    }\n",
       "\n",
       "    .dataframe tbody tr th {\n",
       "        vertical-align: top;\n",
       "    }\n",
       "\n",
       "    .dataframe thead th {\n",
       "        text-align: right;\n",
       "    }\n",
       "</style>\n",
       "<table border=\"1\" class=\"dataframe\">\n",
       "  <thead>\n",
       "    <tr style=\"text-align: right;\">\n",
       "      <th></th>\n",
       "      <th>total_count</th>\n",
       "      <th>positive_count</th>\n",
       "      <th>positive_location_ratio</th>\n",
       "    </tr>\n",
       "    <tr>\n",
       "      <th>neighbourhood_cleansed</th>\n",
       "      <th></th>\n",
       "      <th></th>\n",
       "      <th></th>\n",
       "    </tr>\n",
       "  </thead>\n",
       "  <tbody>\n",
       "    <tr>\n",
       "      <th>Centrum-West</th>\n",
       "      <td>37350</td>\n",
       "      <td>12890.0</td>\n",
       "      <td>34.511379</td>\n",
       "    </tr>\n",
       "    <tr>\n",
       "      <th>Centrum-Oost</th>\n",
       "      <td>27792</td>\n",
       "      <td>8493.0</td>\n",
       "      <td>30.559154</td>\n",
       "    </tr>\n",
       "    <tr>\n",
       "      <th>De Pijp - Rivierenbuurt</th>\n",
       "      <td>29673</td>\n",
       "      <td>7183.0</td>\n",
       "      <td>24.207192</td>\n",
       "    </tr>\n",
       "    <tr>\n",
       "      <th>De Baarsjes - Oud-West</th>\n",
       "      <td>42120</td>\n",
       "      <td>9158.0</td>\n",
       "      <td>21.742640</td>\n",
       "    </tr>\n",
       "    <tr>\n",
       "      <th>Zuid</th>\n",
       "      <td>16930</td>\n",
       "      <td>3473.0</td>\n",
       "      <td>20.513881</td>\n",
       "    </tr>\n",
       "    <tr>\n",
       "      <th>Westerpark</th>\n",
       "      <td>20337</td>\n",
       "      <td>3903.0</td>\n",
       "      <td>19.191621</td>\n",
       "    </tr>\n",
       "    <tr>\n",
       "      <th>Oud-Oost</th>\n",
       "      <td>14669</td>\n",
       "      <td>2557.0</td>\n",
       "      <td>17.431318</td>\n",
       "    </tr>\n",
       "    <tr>\n",
       "      <th>Oostelijk Havengebied - Indische Buurt</th>\n",
       "      <td>10434</td>\n",
       "      <td>1303.0</td>\n",
       "      <td>12.488020</td>\n",
       "    </tr>\n",
       "    <tr>\n",
       "      <th>Oud-Noord</th>\n",
       "      <td>7351</td>\n",
       "      <td>828.0</td>\n",
       "      <td>11.263774</td>\n",
       "    </tr>\n",
       "    <tr>\n",
       "      <th>Watergraafsmeer</th>\n",
       "      <td>6048</td>\n",
       "      <td>655.0</td>\n",
       "      <td>10.830026</td>\n",
       "    </tr>\n",
       "    <tr>\n",
       "      <th>Bos en Lommer</th>\n",
       "      <td>13262</td>\n",
       "      <td>1430.0</td>\n",
       "      <td>10.782687</td>\n",
       "    </tr>\n",
       "    <tr>\n",
       "      <th>Slotervaart</th>\n",
       "      <td>2856</td>\n",
       "      <td>296.0</td>\n",
       "      <td>10.364146</td>\n",
       "    </tr>\n",
       "    <tr>\n",
       "      <th>Buitenveldert - Zuidas</th>\n",
       "      <td>1641</td>\n",
       "      <td>167.0</td>\n",
       "      <td>10.176722</td>\n",
       "    </tr>\n",
       "    <tr>\n",
       "      <th>IJburg - Zeeburgereiland</th>\n",
       "      <td>3256</td>\n",
       "      <td>309.0</td>\n",
       "      <td>9.490172</td>\n",
       "    </tr>\n",
       "    <tr>\n",
       "      <th>Bijlmer-Centrum</th>\n",
       "      <td>928</td>\n",
       "      <td>70.0</td>\n",
       "      <td>7.543103</td>\n",
       "    </tr>\n",
       "    <tr>\n",
       "      <th>Geuzenveld - Slotermeer</th>\n",
       "      <td>1677</td>\n",
       "      <td>125.0</td>\n",
       "      <td>7.453787</td>\n",
       "    </tr>\n",
       "    <tr>\n",
       "      <th>Osdorp</th>\n",
       "      <td>950</td>\n",
       "      <td>70.0</td>\n",
       "      <td>7.368421</td>\n",
       "    </tr>\n",
       "    <tr>\n",
       "      <th>Noord-West</th>\n",
       "      <td>2716</td>\n",
       "      <td>184.0</td>\n",
       "      <td>6.774669</td>\n",
       "    </tr>\n",
       "    <tr>\n",
       "      <th>De Aker - Nieuw Sloten</th>\n",
       "      <td>1141</td>\n",
       "      <td>77.0</td>\n",
       "      <td>6.748466</td>\n",
       "    </tr>\n",
       "    <tr>\n",
       "      <th>Noord-Oost</th>\n",
       "      <td>2057</td>\n",
       "      <td>137.0</td>\n",
       "      <td>6.660185</td>\n",
       "    </tr>\n",
       "    <tr>\n",
       "      <th>Bijlmer-Oost</th>\n",
       "      <td>329</td>\n",
       "      <td>21.0</td>\n",
       "      <td>6.382979</td>\n",
       "    </tr>\n",
       "    <tr>\n",
       "      <th>Gaasperdam - Driemond</th>\n",
       "      <td>669</td>\n",
       "      <td>33.0</td>\n",
       "      <td>4.932735</td>\n",
       "    </tr>\n",
       "  </tbody>\n",
       "</table>\n",
       "</div>"
      ],
      "text/plain": [
       "                                        total_count  positive_count  \\\n",
       "neighbourhood_cleansed                                                \n",
       "Centrum-West                                  37350         12890.0   \n",
       "Centrum-Oost                                  27792          8493.0   \n",
       "De Pijp - Rivierenbuurt                       29673          7183.0   \n",
       "De Baarsjes - Oud-West                        42120          9158.0   \n",
       "Zuid                                          16930          3473.0   \n",
       "Westerpark                                    20337          3903.0   \n",
       "Oud-Oost                                      14669          2557.0   \n",
       "Oostelijk Havengebied - Indische Buurt        10434          1303.0   \n",
       "Oud-Noord                                      7351           828.0   \n",
       "Watergraafsmeer                                6048           655.0   \n",
       "Bos en Lommer                                 13262          1430.0   \n",
       "Slotervaart                                    2856           296.0   \n",
       "Buitenveldert - Zuidas                         1641           167.0   \n",
       "IJburg - Zeeburgereiland                       3256           309.0   \n",
       "Bijlmer-Centrum                                 928            70.0   \n",
       "Geuzenveld - Slotermeer                        1677           125.0   \n",
       "Osdorp                                          950            70.0   \n",
       "Noord-West                                     2716           184.0   \n",
       "De Aker - Nieuw Sloten                         1141            77.0   \n",
       "Noord-Oost                                     2057           137.0   \n",
       "Bijlmer-Oost                                    329            21.0   \n",
       "Gaasperdam - Driemond                           669            33.0   \n",
       "\n",
       "                                        positive_location_ratio  \n",
       "neighbourhood_cleansed                                           \n",
       "Centrum-West                                          34.511379  \n",
       "Centrum-Oost                                          30.559154  \n",
       "De Pijp - Rivierenbuurt                               24.207192  \n",
       "De Baarsjes - Oud-West                                21.742640  \n",
       "Zuid                                                  20.513881  \n",
       "Westerpark                                            19.191621  \n",
       "Oud-Oost                                              17.431318  \n",
       "Oostelijk Havengebied - Indische Buurt                12.488020  \n",
       "Oud-Noord                                             11.263774  \n",
       "Watergraafsmeer                                       10.830026  \n",
       "Bos en Lommer                                         10.782687  \n",
       "Slotervaart                                           10.364146  \n",
       "Buitenveldert - Zuidas                                10.176722  \n",
       "IJburg - Zeeburgereiland                               9.490172  \n",
       "Bijlmer-Centrum                                        7.543103  \n",
       "Geuzenveld - Slotermeer                                7.453787  \n",
       "Osdorp                                                 7.368421  \n",
       "Noord-West                                             6.774669  \n",
       "De Aker - Nieuw Sloten                                 6.748466  \n",
       "Noord-Oost                                             6.660185  \n",
       "Bijlmer-Oost                                           6.382979  \n",
       "Gaasperdam - Driemond                                  4.932735  "
      ]
     },
     "execution_count": 429,
     "metadata": {},
     "output_type": "execute_result"
    }
   ],
   "source": [
    "#Order the neighborhoods with respect to the ratio of reviews that positively comment on the location\n",
    "review_counts_nh.sort_values('positive_location_ratio', ascending = False)"
   ]
  },
  {
   "cell_type": "code",
   "execution_count": 430,
   "metadata": {},
   "outputs": [
    {
     "data": {
      "text/html": [
       "<div>\n",
       "<style scoped>\n",
       "    .dataframe tbody tr th:only-of-type {\n",
       "        vertical-align: middle;\n",
       "    }\n",
       "\n",
       "    .dataframe tbody tr th {\n",
       "        vertical-align: top;\n",
       "    }\n",
       "\n",
       "    .dataframe thead th {\n",
       "        text-align: right;\n",
       "    }\n",
       "</style>\n",
       "<table border=\"1\" class=\"dataframe\">\n",
       "  <thead>\n",
       "    <tr style=\"text-align: right;\">\n",
       "      <th></th>\n",
       "      <th>neighbourhood_cleansed</th>\n",
       "      <th>total_count</th>\n",
       "      <th>positive_count</th>\n",
       "      <th>positive_location_ratio</th>\n",
       "      <th>price_pp</th>\n",
       "    </tr>\n",
       "  </thead>\n",
       "  <tbody>\n",
       "    <tr>\n",
       "      <th>5</th>\n",
       "      <td>Centrum-West</td>\n",
       "      <td>37350</td>\n",
       "      <td>12890.0</td>\n",
       "      <td>34.511379</td>\n",
       "      <td>74.090627</td>\n",
       "    </tr>\n",
       "    <tr>\n",
       "      <th>4</th>\n",
       "      <td>Centrum-Oost</td>\n",
       "      <td>27792</td>\n",
       "      <td>8493.0</td>\n",
       "      <td>30.559154</td>\n",
       "      <td>70.566131</td>\n",
       "    </tr>\n",
       "    <tr>\n",
       "      <th>8</th>\n",
       "      <td>De Pijp - Rivierenbuurt</td>\n",
       "      <td>29673</td>\n",
       "      <td>7183.0</td>\n",
       "      <td>24.207192</td>\n",
       "      <td>62.433564</td>\n",
       "    </tr>\n",
       "    <tr>\n",
       "      <th>7</th>\n",
       "      <td>De Baarsjes - Oud-West</td>\n",
       "      <td>42120</td>\n",
       "      <td>9158.0</td>\n",
       "      <td>21.742640</td>\n",
       "      <td>60.243271</td>\n",
       "    </tr>\n",
       "    <tr>\n",
       "      <th>21</th>\n",
       "      <td>Zuid</td>\n",
       "      <td>16930</td>\n",
       "      <td>3473.0</td>\n",
       "      <td>20.513881</td>\n",
       "      <td>62.788498</td>\n",
       "    </tr>\n",
       "    <tr>\n",
       "      <th>20</th>\n",
       "      <td>Westerpark</td>\n",
       "      <td>20337</td>\n",
       "      <td>3903.0</td>\n",
       "      <td>19.191621</td>\n",
       "      <td>60.128220</td>\n",
       "    </tr>\n",
       "    <tr>\n",
       "      <th>17</th>\n",
       "      <td>Oud-Oost</td>\n",
       "      <td>14669</td>\n",
       "      <td>2557.0</td>\n",
       "      <td>17.431318</td>\n",
       "      <td>57.834228</td>\n",
       "    </tr>\n",
       "    <tr>\n",
       "      <th>14</th>\n",
       "      <td>Oostelijk Havengebied - Indische Buurt</td>\n",
       "      <td>10434</td>\n",
       "      <td>1303.0</td>\n",
       "      <td>12.488020</td>\n",
       "      <td>53.463748</td>\n",
       "    </tr>\n",
       "    <tr>\n",
       "      <th>16</th>\n",
       "      <td>Oud-Noord</td>\n",
       "      <td>7351</td>\n",
       "      <td>828.0</td>\n",
       "      <td>11.263774</td>\n",
       "      <td>49.327339</td>\n",
       "    </tr>\n",
       "    <tr>\n",
       "      <th>19</th>\n",
       "      <td>Watergraafsmeer</td>\n",
       "      <td>6048</td>\n",
       "      <td>655.0</td>\n",
       "      <td>10.830026</td>\n",
       "      <td>51.035228</td>\n",
       "    </tr>\n",
       "    <tr>\n",
       "      <th>2</th>\n",
       "      <td>Bos en Lommer</td>\n",
       "      <td>13262</td>\n",
       "      <td>1430.0</td>\n",
       "      <td>10.782687</td>\n",
       "      <td>51.992562</td>\n",
       "    </tr>\n",
       "    <tr>\n",
       "      <th>18</th>\n",
       "      <td>Slotervaart</td>\n",
       "      <td>2856</td>\n",
       "      <td>296.0</td>\n",
       "      <td>10.364146</td>\n",
       "      <td>48.018648</td>\n",
       "    </tr>\n",
       "    <tr>\n",
       "      <th>3</th>\n",
       "      <td>Buitenveldert - Zuidas</td>\n",
       "      <td>1641</td>\n",
       "      <td>167.0</td>\n",
       "      <td>10.176722</td>\n",
       "      <td>51.164988</td>\n",
       "    </tr>\n",
       "    <tr>\n",
       "      <th>11</th>\n",
       "      <td>IJburg - Zeeburgereiland</td>\n",
       "      <td>3256</td>\n",
       "      <td>309.0</td>\n",
       "      <td>9.490172</td>\n",
       "      <td>49.006479</td>\n",
       "    </tr>\n",
       "    <tr>\n",
       "      <th>0</th>\n",
       "      <td>Bijlmer-Centrum</td>\n",
       "      <td>928</td>\n",
       "      <td>70.0</td>\n",
       "      <td>7.543103</td>\n",
       "      <td>42.014080</td>\n",
       "    </tr>\n",
       "    <tr>\n",
       "      <th>10</th>\n",
       "      <td>Geuzenveld - Slotermeer</td>\n",
       "      <td>1677</td>\n",
       "      <td>125.0</td>\n",
       "      <td>7.453787</td>\n",
       "      <td>46.657447</td>\n",
       "    </tr>\n",
       "    <tr>\n",
       "      <th>15</th>\n",
       "      <td>Osdorp</td>\n",
       "      <td>950</td>\n",
       "      <td>70.0</td>\n",
       "      <td>7.368421</td>\n",
       "      <td>45.616453</td>\n",
       "    </tr>\n",
       "    <tr>\n",
       "      <th>13</th>\n",
       "      <td>Noord-West</td>\n",
       "      <td>2716</td>\n",
       "      <td>184.0</td>\n",
       "      <td>6.774669</td>\n",
       "      <td>43.832701</td>\n",
       "    </tr>\n",
       "    <tr>\n",
       "      <th>6</th>\n",
       "      <td>De Aker - Nieuw Sloten</td>\n",
       "      <td>1141</td>\n",
       "      <td>77.0</td>\n",
       "      <td>6.748466</td>\n",
       "      <td>44.864564</td>\n",
       "    </tr>\n",
       "    <tr>\n",
       "      <th>12</th>\n",
       "      <td>Noord-Oost</td>\n",
       "      <td>2057</td>\n",
       "      <td>137.0</td>\n",
       "      <td>6.660185</td>\n",
       "      <td>43.977309</td>\n",
       "    </tr>\n",
       "    <tr>\n",
       "      <th>1</th>\n",
       "      <td>Bijlmer-Oost</td>\n",
       "      <td>329</td>\n",
       "      <td>21.0</td>\n",
       "      <td>6.382979</td>\n",
       "      <td>37.345503</td>\n",
       "    </tr>\n",
       "    <tr>\n",
       "      <th>9</th>\n",
       "      <td>Gaasperdam - Driemond</td>\n",
       "      <td>669</td>\n",
       "      <td>33.0</td>\n",
       "      <td>4.932735</td>\n",
       "      <td>42.186458</td>\n",
       "    </tr>\n",
       "  </tbody>\n",
       "</table>\n",
       "</div>"
      ],
      "text/plain": [
       "                    neighbourhood_cleansed  total_count  positive_count  \\\n",
       "5                             Centrum-West        37350         12890.0   \n",
       "4                             Centrum-Oost        27792          8493.0   \n",
       "8                  De Pijp - Rivierenbuurt        29673          7183.0   \n",
       "7                   De Baarsjes - Oud-West        42120          9158.0   \n",
       "21                                    Zuid        16930          3473.0   \n",
       "20                              Westerpark        20337          3903.0   \n",
       "17                                Oud-Oost        14669          2557.0   \n",
       "14  Oostelijk Havengebied - Indische Buurt        10434          1303.0   \n",
       "16                               Oud-Noord         7351           828.0   \n",
       "19                         Watergraafsmeer         6048           655.0   \n",
       "2                            Bos en Lommer        13262          1430.0   \n",
       "18                             Slotervaart         2856           296.0   \n",
       "3                   Buitenveldert - Zuidas         1641           167.0   \n",
       "11                IJburg - Zeeburgereiland         3256           309.0   \n",
       "0                          Bijlmer-Centrum          928            70.0   \n",
       "10                 Geuzenveld - Slotermeer         1677           125.0   \n",
       "15                                  Osdorp          950            70.0   \n",
       "13                              Noord-West         2716           184.0   \n",
       "6                   De Aker - Nieuw Sloten         1141            77.0   \n",
       "12                              Noord-Oost         2057           137.0   \n",
       "1                             Bijlmer-Oost          329            21.0   \n",
       "9                    Gaasperdam - Driemond          669            33.0   \n",
       "\n",
       "    positive_location_ratio   price_pp  \n",
       "5                 34.511379  74.090627  \n",
       "4                 30.559154  70.566131  \n",
       "8                 24.207192  62.433564  \n",
       "7                 21.742640  60.243271  \n",
       "21                20.513881  62.788498  \n",
       "20                19.191621  60.128220  \n",
       "17                17.431318  57.834228  \n",
       "14                12.488020  53.463748  \n",
       "16                11.263774  49.327339  \n",
       "19                10.830026  51.035228  \n",
       "2                 10.782687  51.992562  \n",
       "18                10.364146  48.018648  \n",
       "3                 10.176722  51.164988  \n",
       "11                 9.490172  49.006479  \n",
       "0                  7.543103  42.014080  \n",
       "10                 7.453787  46.657447  \n",
       "15                 7.368421  45.616453  \n",
       "13                 6.774669  43.832701  \n",
       "6                  6.748466  44.864564  \n",
       "12                 6.660185  43.977309  \n",
       "1                  6.382979  37.345503  \n",
       "9                  4.932735  42.186458  "
      ]
     },
     "execution_count": 430,
     "metadata": {},
     "output_type": "execute_result"
    }
   ],
   "source": [
    "#Combine the dataset with percentage of positive reviews with the dataset that shows average prices\n",
    "final_results = review_counts_nh.merge(homeapt_avg, on ='neighbourhood_cleansed').sort_values('positive_location_ratio', \n",
    "                                                                                          ascending = False)\n",
    "final_results"
   ]
  },
  {
   "cell_type": "code",
   "execution_count": 431,
   "metadata": {},
   "outputs": [
    {
     "name": "stdout",
     "output_type": "stream",
     "text": [
      "                         positive_location_ratio  price_pp\n",
      "positive_location_ratio                 1.000000  0.971428\n",
      "price_pp                                0.971428  1.000000\n",
      "                         positive_location_ratio  price_pp\n",
      "positive_location_ratio                 1.000000  0.844156\n",
      "price_pp                                0.844156  1.000000\n"
     ]
    }
   ],
   "source": [
    "#Calculate the correlation coefficient between the average prices and the relative number of positive location reviews\n",
    "print(final_results[['positive_location_ratio', 'price_pp']].corr())\n",
    "print(final_results[['positive_location_ratio', 'price_pp']].corr('kendall'))"
   ]
  },
  {
   "cell_type": "code",
   "execution_count": 490,
   "metadata": {},
   "outputs": [
    {
     "data": {
      "image/png": "[encoded data removed]",
      "text/plain": [
       "<Figure size 864x432 with 1 Axes>"
      ]
     },
     "metadata": {
      "needs_background": "light"
     },
     "output_type": "display_data"
    }
   ],
   "source": [
    "#Show the relationship with a scatter plot\n",
    "plt.rcParams['figure.figsize'] = [12, 6]\n",
    "sns.regplot('positive_location_ratio', 'price_pp', data = final_results);\n",
    "plt.xlabel('Percentage of positive location reviews');\n",
    "plt.ylabel('Average price');"
   ]
  },
  {
   "cell_type": "markdown",
   "metadata": {},
   "source": [
    "#### Observations:\n",
    "\n",
    "We find out the share of positive location reviews is linearly related to the average price."
   ]
  },
  {
   "cell_type": "markdown",
   "metadata": {},
   "source": [
    "### 5. Identify other price drivers from names and descriptions\n",
    "Location is obviously one of the main factors impacting the price of renting out an Airbnb apartment, but there are of course many other aspects that explain differences in prices. In the last part of my Airbnb data analysis my aim is to identify other price drivers by analyzing the listings' names and descriptions and comparing price differences between listings with or without specific features being advertised. Specifically, I try to answer questions such as: how much extra on average one needs to pay if the flat is advertised as luxurious, or spacious, or modern, etc., or how large is the premium for having a garden, or very specific to Amsterdam, how much more expensive is it to stay next to a canal, or on it, in a houseboat.\n",
    "\n",
    "To control the location variable, i.e. adjust for differences in prices between neighborhoods, the analysis is performed only on specific neighborhoods. Similar to previous parts I only work with entire home/apt listings."
   ]
  },
  {
   "cell_type": "code",
   "execution_count": 549,
   "metadata": {},
   "outputs": [],
   "source": [
    "#Fill the missing values in the name and description columns\n",
    "listings['name'].fillna('No Name', inplace = True)\n",
    "listings['description'].fillna('No Description', inplace = True)"
   ]
  },
  {
   "cell_type": "code",
   "execution_count": 550,
   "metadata": {},
   "outputs": [],
   "source": [
    "#Filter the listings dataset to control other parameters that impact the price \n",
    "additional_filter = (listings['room_type'] == 'Entire home/apt') & ((listings['neighbourhood_cleansed']=='Centrum-West')|\n",
    "                                                                    (listings['neighbourhood_cleansed']=='Centrum-Oost'))\n",
    "                   # & (listings['accommodates'] == 2)\n",
    "listings_filtered = listings[additional_filter]"
   ]
  },
  {
   "cell_type": "code",
   "execution_count": 551,
   "metadata": {},
   "outputs": [
    {
     "data": {
      "text/plain": [
       "(2930, 107)"
      ]
     },
     "execution_count": 551,
     "metadata": {},
     "output_type": "execute_result"
    }
   ],
   "source": [
    "listings_filtered.shape"
   ]
  },
  {
   "cell_type": "code",
   "execution_count": 552,
   "metadata": {},
   "outputs": [],
   "source": [
    "def tokenize(text):\n",
    "    \"\"\" Normalize input text, tokenize it into words, remove stopwords and return lemmatized tokens\n",
    "    \n",
    "    Parameters\n",
    "    ----------\n",
    "    text : str, input text to be tokenized\n",
    "    \n",
    "    Returns\n",
    "    -------\n",
    "    lemmed: list, lemmatized tokens\n",
    "    \"\"\"\n",
    "    text = re.sub(r'[^a-zA-Z0-9]', ' ', text.lower())\n",
    "    tokens = word_tokenize(text)\n",
    "    \n",
    "    tokens_subset = [v.strip() for v in tokens if v.strip() not in set(stopwords.words('english'))]\n",
    "    \n",
    "    lemmatizer = WordNetLemmatizer()\n",
    "    lemmed = [lemmatizer.lemmatize(w) for w in tokens_subset]\n",
    "    \n",
    "    return lemmed"
   ]
  },
  {
   "cell_type": "code",
   "execution_count": 553,
   "metadata": {},
   "outputs": [
    {
     "data": {
      "text/html": [
       "<div>\n",
       "<style scoped>\n",
       "    .dataframe tbody tr th:only-of-type {\n",
       "        vertical-align: middle;\n",
       "    }\n",
       "\n",
       "    .dataframe tbody tr th {\n",
       "        vertical-align: top;\n",
       "    }\n",
       "\n",
       "    .dataframe thead th {\n",
       "        text-align: right;\n",
       "    }\n",
       "</style>\n",
       "<table border=\"1\" class=\"dataframe\">\n",
       "  <thead>\n",
       "    <tr style=\"text-align: right;\">\n",
       "      <th></th>\n",
       "      <th>word</th>\n",
       "      <th>count</th>\n",
       "    </tr>\n",
       "  </thead>\n",
       "  <tbody>\n",
       "    <tr>\n",
       "      <th>14</th>\n",
       "      <td>apartment</td>\n",
       "      <td>1213</td>\n",
       "    </tr>\n",
       "    <tr>\n",
       "      <th>11</th>\n",
       "      <td>amsterdam</td>\n",
       "      <td>692</td>\n",
       "    </tr>\n",
       "    <tr>\n",
       "      <th>2</th>\n",
       "      <td>city</td>\n",
       "      <td>615</td>\n",
       "    </tr>\n",
       "    <tr>\n",
       "      <th>3</th>\n",
       "      <td>centre</td>\n",
       "      <td>588</td>\n",
       "    </tr>\n",
       "    <tr>\n",
       "      <th>51</th>\n",
       "      <td>canal</td>\n",
       "      <td>567</td>\n",
       "    </tr>\n",
       "    <tr>\n",
       "      <th>7</th>\n",
       "      <td>jordaan</td>\n",
       "      <td>415</td>\n",
       "    </tr>\n",
       "    <tr>\n",
       "      <th>12</th>\n",
       "      <td>center</td>\n",
       "      <td>411</td>\n",
       "    </tr>\n",
       "    <tr>\n",
       "      <th>38</th>\n",
       "      <td>house</td>\n",
       "      <td>293</td>\n",
       "    </tr>\n",
       "    <tr>\n",
       "      <th>32</th>\n",
       "      <td>view</td>\n",
       "      <td>265</td>\n",
       "    </tr>\n",
       "    <tr>\n",
       "      <th>157</th>\n",
       "      <td>spacious</td>\n",
       "      <td>232</td>\n",
       "    </tr>\n",
       "    <tr>\n",
       "      <th>19</th>\n",
       "      <td>central</td>\n",
       "      <td>224</td>\n",
       "    </tr>\n",
       "    <tr>\n",
       "      <th>100</th>\n",
       "      <td>studio</td>\n",
       "      <td>188</td>\n",
       "    </tr>\n",
       "    <tr>\n",
       "      <th>110</th>\n",
       "      <td>beautiful</td>\n",
       "      <td>184</td>\n",
       "    </tr>\n",
       "    <tr>\n",
       "      <th>1</th>\n",
       "      <td>apt</td>\n",
       "      <td>179</td>\n",
       "    </tr>\n",
       "    <tr>\n",
       "      <th>53</th>\n",
       "      <td>heart</td>\n",
       "      <td>156</td>\n",
       "    </tr>\n",
       "    <tr>\n",
       "      <th>104</th>\n",
       "      <td>2</td>\n",
       "      <td>142</td>\n",
       "    </tr>\n",
       "    <tr>\n",
       "      <th>29</th>\n",
       "      <td>loft</td>\n",
       "      <td>141</td>\n",
       "    </tr>\n",
       "    <tr>\n",
       "      <th>64</th>\n",
       "      <td>cosy</td>\n",
       "      <td>140</td>\n",
       "    </tr>\n",
       "    <tr>\n",
       "      <th>27</th>\n",
       "      <td>location</td>\n",
       "      <td>139</td>\n",
       "    </tr>\n",
       "    <tr>\n",
       "      <th>58</th>\n",
       "      <td>modern</td>\n",
       "      <td>138</td>\n",
       "    </tr>\n",
       "    <tr>\n",
       "      <th>41</th>\n",
       "      <td>houseboat</td>\n",
       "      <td>126</td>\n",
       "    </tr>\n",
       "    <tr>\n",
       "      <th>99</th>\n",
       "      <td>cozy</td>\n",
       "      <td>126</td>\n",
       "    </tr>\n",
       "    <tr>\n",
       "      <th>37</th>\n",
       "      <td>bedroom</td>\n",
       "      <td>125</td>\n",
       "    </tr>\n",
       "    <tr>\n",
       "      <th>28</th>\n",
       "      <td>bright</td>\n",
       "      <td>118</td>\n",
       "    </tr>\n",
       "    <tr>\n",
       "      <th>67</th>\n",
       "      <td>family</td>\n",
       "      <td>113</td>\n",
       "    </tr>\n",
       "    <tr>\n",
       "      <th>0</th>\n",
       "      <td>lovely</td>\n",
       "      <td>103</td>\n",
       "    </tr>\n",
       "    <tr>\n",
       "      <th>23</th>\n",
       "      <td>luxury</td>\n",
       "      <td>100</td>\n",
       "    </tr>\n",
       "    <tr>\n",
       "      <th>91</th>\n",
       "      <td>home</td>\n",
       "      <td>96</td>\n",
       "    </tr>\n",
       "    <tr>\n",
       "      <th>135</th>\n",
       "      <td>appartment</td>\n",
       "      <td>96</td>\n",
       "    </tr>\n",
       "    <tr>\n",
       "      <th>97</th>\n",
       "      <td>great</td>\n",
       "      <td>92</td>\n",
       "    </tr>\n",
       "    <tr>\n",
       "      <th>98</th>\n",
       "      <td>terrace</td>\n",
       "      <td>85</td>\n",
       "    </tr>\n",
       "    <tr>\n",
       "      <th>62</th>\n",
       "      <td>amazing</td>\n",
       "      <td>85</td>\n",
       "    </tr>\n",
       "    <tr>\n",
       "      <th>221</th>\n",
       "      <td>light</td>\n",
       "      <td>83</td>\n",
       "    </tr>\n",
       "    <tr>\n",
       "      <th>9</th>\n",
       "      <td>quiet</td>\n",
       "      <td>83</td>\n",
       "    </tr>\n",
       "    <tr>\n",
       "      <th>199</th>\n",
       "      <td>floor</td>\n",
       "      <td>82</td>\n",
       "    </tr>\n",
       "    <tr>\n",
       "      <th>155</th>\n",
       "      <td>garden</td>\n",
       "      <td>75</td>\n",
       "    </tr>\n",
       "    <tr>\n",
       "      <th>36</th>\n",
       "      <td>unique</td>\n",
       "      <td>72</td>\n",
       "    </tr>\n",
       "    <tr>\n",
       "      <th>46</th>\n",
       "      <td>dam</td>\n",
       "      <td>72</td>\n",
       "    </tr>\n",
       "    <tr>\n",
       "      <th>59</th>\n",
       "      <td>stylish</td>\n",
       "      <td>71</td>\n",
       "    </tr>\n",
       "    <tr>\n",
       "      <th>6</th>\n",
       "      <td>near</td>\n",
       "      <td>71</td>\n",
       "    </tr>\n",
       "    <tr>\n",
       "      <th>123</th>\n",
       "      <td>area</td>\n",
       "      <td>70</td>\n",
       "    </tr>\n",
       "    <tr>\n",
       "      <th>65</th>\n",
       "      <td>charming</td>\n",
       "      <td>69</td>\n",
       "    </tr>\n",
       "    <tr>\n",
       "      <th>227</th>\n",
       "      <td>new</td>\n",
       "      <td>61</td>\n",
       "    </tr>\n",
       "    <tr>\n",
       "      <th>44</th>\n",
       "      <td>private</td>\n",
       "      <td>60</td>\n",
       "    </tr>\n",
       "    <tr>\n",
       "      <th>275</th>\n",
       "      <td>located</td>\n",
       "      <td>57</td>\n",
       "    </tr>\n",
       "    <tr>\n",
       "      <th>118</th>\n",
       "      <td>luxurious</td>\n",
       "      <td>57</td>\n",
       "    </tr>\n",
       "    <tr>\n",
       "      <th>81</th>\n",
       "      <td>perfect</td>\n",
       "      <td>54</td>\n",
       "    </tr>\n",
       "    <tr>\n",
       "      <th>191</th>\n",
       "      <td>district</td>\n",
       "      <td>54</td>\n",
       "    </tr>\n",
       "    <tr>\n",
       "      <th>108</th>\n",
       "      <td>authentic</td>\n",
       "      <td>53</td>\n",
       "    </tr>\n",
       "    <tr>\n",
       "      <th>73</th>\n",
       "      <td>design</td>\n",
       "      <td>53</td>\n",
       "    </tr>\n",
       "  </tbody>\n",
       "</table>\n",
       "</div>"
      ],
      "text/plain": [
       "           word  count\n",
       "14    apartment   1213\n",
       "11    amsterdam    692\n",
       "2          city    615\n",
       "3        centre    588\n",
       "51        canal    567\n",
       "7       jordaan    415\n",
       "12       center    411\n",
       "38        house    293\n",
       "32         view    265\n",
       "157    spacious    232\n",
       "19      central    224\n",
       "100      studio    188\n",
       "110   beautiful    184\n",
       "1           apt    179\n",
       "53        heart    156\n",
       "104           2    142\n",
       "29         loft    141\n",
       "64         cosy    140\n",
       "27     location    139\n",
       "58       modern    138\n",
       "41    houseboat    126\n",
       "99         cozy    126\n",
       "37      bedroom    125\n",
       "28       bright    118\n",
       "67       family    113\n",
       "0        lovely    103\n",
       "23       luxury    100\n",
       "91         home     96\n",
       "135  appartment     96\n",
       "97        great     92\n",
       "98      terrace     85\n",
       "62      amazing     85\n",
       "221       light     83\n",
       "9         quiet     83\n",
       "199       floor     82\n",
       "155      garden     75\n",
       "36       unique     72\n",
       "46          dam     72\n",
       "59      stylish     71\n",
       "6          near     71\n",
       "123        area     70\n",
       "65     charming     69\n",
       "227         new     61\n",
       "44      private     60\n",
       "275     located     57\n",
       "118   luxurious     57\n",
       "81      perfect     54\n",
       "191    district     54\n",
       "108   authentic     53\n",
       "73       design     53"
      ]
     },
     "execution_count": 553,
     "metadata": {},
     "output_type": "execute_result"
    }
   ],
   "source": [
    "#Find the most common tokens in the dataset of listings' names\n",
    "\n",
    "#Obtain matrix of token counts\n",
    "count = CountVectorizer(tokenizer = tokenize)\n",
    "names_wordcount = count.fit_transform(listings_filtered['name'])\n",
    "#Aggregate to obtain total token count\n",
    "wordcount_raw = names_wordcount.sum(axis=0)\n",
    "#Map the total token counts to tokens \n",
    "wordcount_mapped = [(word, wordcount_raw[0, i]) for word, i in count.vocabulary_.items()]\n",
    "#Store the token-count pairs into a dataframe\n",
    "wordcount_df = pd.DataFrame(wordcount_mapped, columns =['word','count']).sort_values(by='count', ascending=False)\n",
    "wordcount_df[:50]"
   ]
  },
  {
   "cell_type": "code",
   "execution_count": 554,
   "metadata": {},
   "outputs": [],
   "source": [
    "def mean_difference(df, keyword, confidence_level = 0.9):\n",
    "    \"\"\" \n",
    "    \n",
    "    \n",
    "    Parameters\n",
    "    ----------\n",
    "    df : \n",
    "    keyword : \n",
    "    \n",
    "    Returns\n",
    "    -------\n",
    "    \n",
    "    \n",
    "    \"\"\"\n",
    "    \n",
    "    # Check each name if it includes the input keyword \n",
    "    keyword_flag = df['name'].apply(lambda x: 1 if keyword in x.lower() else 0)\n",
    "    \n",
    "    # Split the input dataframe into two sets - one with the keyword in the name and one without\n",
    "    prices_keyword = df['price_pp'][keyword_flag == 1]\n",
    "    prices_other = df['price_pp'][keyword_flag == 0]\n",
    "    \n",
    "    #Plot the distribution\n",
    "    bins = np.arange(0,200,5)\n",
    "    sns.distplot(prices_keyword, bins, kde = True, norm_hist = True)\n",
    "    sns.distplot(prices_other, bins, kde = True, norm_hist = True, color = 'red')\n",
    "    plt.title(keyword)\n",
    "    \n",
    "    #Calculate the confidence interval for the mean difference\n",
    "    m1 = prices_keyword.mean()\n",
    "    m2 = prices_other.mean()\n",
    "    \n",
    "    s1 = prices_keyword.std()\n",
    "    s2 = prices_other.std()\n",
    "    \n",
    "    n1 = len(prices_keyword)\n",
    "    n2 = len(prices_other)\n",
    "    \n",
    "    \n",
    "    se = np.sqrt((s1 ** 2)/n1 + (s2 ** 2)/n2)\n",
    "    \n",
    "    #Sample mean difference\n",
    "    stat = m1-m2\n",
    "    \n",
    "    #Inverse CDF\n",
    "    p = 1 - (1 - confidence_level)/2\n",
    "    critical = norm.ppf(p)\n",
    "    \n",
    "    #Confidence interval\n",
    "    lower_bound = stat - se * critical\n",
    "    upper_bound = stat + se * critical\n",
    "    \n",
    "    print(f'Average price difference: {stat:.2f} +/- {se * critical:.2f}')"
   ]
  },
  {
   "cell_type": "code",
   "execution_count": 559,
   "metadata": {},
   "outputs": [
    {
     "name": "stdout",
     "output_type": "stream",
     "text": [
      "Average price difference: 7.36 +/- 2.02\n"
     ]
    },
    {
     "data": {
      "image/png": "[encoded data removed]",
      "text/plain": [
       "<Figure size 720x360 with 1 Axes>"
      ]
     },
     "metadata": {
      "needs_background": "light"
     },
     "output_type": "display_data"
    }
   ],
   "source": [
    "plt.rcParams['figure.figsize'] = [10, 5]\n",
    "mean_difference(listings_filtered, 'canal', 0.9)"
   ]
  },
  {
   "cell_type": "code",
   "execution_count": null,
   "metadata": {},
   "outputs": [],
   "source": []
  }
 ],
 "metadata": {
  "kernelspec": {
   "display_name": "Python 3",
   "language": "python",
   "name": "python3"
  },
  "language_info": {
   "codemirror_mode": {
    "name": "ipython",
    "version": 3
   },
   "file_extension": ".py",
   "mimetype": "text/x-python",
   "name": "python",
   "nbconvert_exporter": "python",
   "pygments_lexer": "ipython3",
   "version": "3.7.1"
  }
 },
 "nbformat": 4,
 "nbformat_minor": 2
}
